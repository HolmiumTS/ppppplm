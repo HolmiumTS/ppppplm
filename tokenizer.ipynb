{
 "cells": [
  {
   "cell_type": "code",
   "execution_count": 1,
   "metadata": {
    "collapsed": true,
    "pycharm": {
     "name": "#%%\n"
    }
   },
   "outputs": [
    {
     "data": {
      "text/plain": "['/run/media/holmium/DATA/TwitterPLM/tokenizer/vocab.json',\n '/run/media/holmium/DATA/TwitterPLM/tokenizer/merges.txt']"
     },
     "execution_count": 1,
     "metadata": {},
     "output_type": "execute_result"
    }
   ],
   "source": [
    "from pathlib import Path\n",
    "\n",
    "from tokenizers.implementations import ByteLevelBPETokenizer\n",
    "from tokenizers.processors import BertProcessing\n",
    "\n",
    "import os\n",
    "\n",
    "root_path = '/run/media/holmium/DATA/TwitterPLM/'\n",
    "\n",
    "paths = [os.path.join(root_path, 'line_tmp.txt')]\n",
    "\n",
    "# Initialize a tokenizer\n",
    "tokenizer = ByteLevelBPETokenizer()\n",
    "\n",
    "# Customize training\n",
    "tokenizer.train(files=paths, vocab_size=8_000, min_frequency=2, special_tokens=[\n",
    "    '[CLS]', '[SEP]', '[MASK]', '[PAD]', '[UNK]'\n",
    "])\n",
    "\n",
    "# Save files to disk\n",
    "tokenizer.save_model(os.path.join(root_path, 'tokenizer'))"
   ]
  },
  {
   "cell_type": "code",
   "execution_count": 3,
   "outputs": [
    {
     "name": "stderr",
     "output_type": "stream",
     "text": [
      "Special tokens have been added in the vocabulary, make sure the associated word embedding are fine-tuned or trained.\n",
      "Special tokens have been added in the vocabulary, make sure the associated word embedding are fine-tuned or trained.\n"
     ]
    },
    {
     "data": {
      "text/plain": "28060736"
     },
     "execution_count": 3,
     "metadata": {},
     "output_type": "execute_result"
    }
   ],
   "source": [
    "from transformers import RobertaForMaskedLM\n",
    "from transformers import RobertaTokenizerFast\n",
    "from transformers import RobertaConfig\n",
    "# tokenizer._tokenizer.post_processor = BertProcessing(\n",
    "#     (\"[SEP]\", tokenizer.token_to_id(\"[SEP]\")),\n",
    "#     (\"[CLS]\", tokenizer.token_to_id(\"[CLS]\")),\n",
    "# )\n",
    "# tokenizer.enable_truncation(max_length=512)\n",
    "config = RobertaConfig(\n",
    "    vocab_size=8_000,\n",
    "    max_position_embeddings=66,\n",
    "    num_attention_heads=3,\n",
    "    num_hidden_layers=3,\n",
    "    type_vocab_size=1,\n",
    ")\n",
    "tokenizer = RobertaTokenizerFast.from_pretrained(os.path.join(root_path,'tokenizer'), max_len=128)\n",
    "model = RobertaForMaskedLM(config=config)\n",
    "model.num_parameters()\n",
    "# => 84 million parameters"
   ],
   "metadata": {
    "collapsed": false,
    "pycharm": {
     "name": "#%%\n"
    }
   }
  },
  {
   "cell_type": "code",
   "execution_count": 8,
   "outputs": [
    {
     "name": "stderr",
     "output_type": "stream",
     "text": [
      "/home/holmium/python-venv/nlp/lib/python3.9/site-packages/transformers/data/datasets/language_modeling.py:120: FutureWarning: This dataset will be removed from the library soon, preprocessing should be handled with the 🤗 Datasets library. You can have a look at this example script for pointers: https://github.com/huggingface/transformers/blob/master/examples/language-modeling/run_mlm.py\n",
      "  warnings.warn(\n"
     ]
    }
   ],
   "source": [
    "from transformers import Trainer, TrainingArguments\n",
    "from transformers import DataCollatorForLanguageModeling\n",
    "from transformers import LineByLineTextDataset\n",
    "\n",
    "dataset = LineByLineTextDataset(\n",
    "    tokenizer=tokenizer,\n",
    "    file_path=os.path.join(root_path,'line_tmp.txt'),\n",
    "    block_size=64,\n",
    ")\n",
    "data_collator = DataCollatorForLanguageModeling(\n",
    "    tokenizer=tokenizer, mlm=True, mlm_probability=0.15\n",
    ")\n",
    "training_args = TrainingArguments(\n",
    "    output_dir=os.path.join(root_path,'model'),\n",
    "    overwrite_output_dir=True,\n",
    "    num_train_epochs=30,\n",
    "    per_gpu_train_batch_size=8,\n",
    "    save_steps=10,\n",
    "    save_total_limit=2,\n",
    "    prediction_loss_only=True,\n",
    ")\n",
    "\n",
    "trainer = Trainer(\n",
    "    model=model,\n",
    "    args=training_args,\n",
    "    data_collator=data_collator,\n",
    "    train_dataset=dataset,\n",
    ")"
   ],
   "metadata": {
    "collapsed": false,
    "pycharm": {
     "name": "#%%\n"
    }
   }
  },
  {
   "cell_type": "code",
   "execution_count": 9,
   "outputs": [
    {
     "name": "stderr",
     "output_type": "stream",
     "text": [
      "Using deprecated `--per_gpu_train_batch_size` argument which will be removed in a future version. Using `--per_device_train_batch_size` is preferred.\n",
      "Using deprecated `--per_gpu_train_batch_size` argument which will be removed in a future version. Using `--per_device_train_batch_size` is preferred.\n"
     ]
    },
    {
     "data": {
      "text/plain": "<IPython.core.display.HTML object>",
      "text/html": "\n    <div>\n        <style>\n            /* Turns off some styling */\n            progress {\n                /* gets rid of default border in Firefox and Opera. */\n                border: none;\n                /* Needs to be in here for Safari polyfill so background images work as expected. */\n                background-size: auto;\n            }\n        </style>\n      \n      <progress value='2' max='300' style='width:300px; height:20px; vertical-align: middle;'></progress>\n      [  2/300 : < :, Epoch 0.10/30]\n    </div>\n    <table border=\"1\" class=\"dataframe\">\n  <thead>\n    <tr style=\"text-align: left;\">\n      <th>Step</th>\n      <th>Training Loss</th>\n    </tr>\n  </thead>\n  <tbody>\n  </tbody>\n</table><p>"
     },
     "metadata": {},
     "output_type": "display_data"
    },
    {
     "data": {
      "text/plain": "TrainOutput(global_step=300, training_loss=6.657333577473958, metrics={'train_runtime': 76.3188, 'train_samples_per_second': 3.931, 'total_flos': 25467475021824.0, 'epoch': 30.0})"
     },
     "execution_count": 9,
     "metadata": {},
     "output_type": "execute_result"
    }
   ],
   "source": [
    "trainer.train()"
   ],
   "metadata": {
    "collapsed": false,
    "pycharm": {
     "name": "#%%\n"
    }
   }
  },
  {
   "cell_type": "code",
   "execution_count": 10,
   "outputs": [],
   "source": [
    "trainer.save_model(os.path.join(root_path,'model'))"
   ],
   "metadata": {
    "collapsed": false,
    "pycharm": {
     "name": "#%%\n"
    }
   }
  },
  {
   "cell_type": "code",
   "execution_count": 14,
   "outputs": [],
   "source": [
    "from transformers import pipeline\n",
    "\n",
    "fill_mask = pipeline(\n",
    "    \"fill-mask\",\n",
    "    model=os.path.join(root_path,'model'),\n",
    "    tokenizer=tokenizer\n",
    ")"
   ],
   "metadata": {
    "collapsed": false,
    "pycharm": {
     "name": "#%%\n"
    }
   }
  },
  {
   "cell_type": "code",
   "execution_count": 17,
   "outputs": [
    {
     "data": {
      "text/plain": "[{'sequence': 'RT to fap with a nude pussy in DM 💦 @💦',\n  'score': 0.02807973325252533,\n  'token': 265,\n  'token_str': ' @'},\n {'sequence': 'RT to fap with a nude pussy in DM 💦 💦',\n  'score': 0.027658136561512947,\n  'token': 225,\n  'token_str': ' '},\n {'sequence': 'RT to fap with a nude pussy in DM 💦.💦',\n  'score': 0.021921377629041672,\n  'token': 18,\n  'token_str': '.'},\n {'sequence': 'RT to fap with a nude pussy in DM 💦/💦',\n  'score': 0.01836058869957924,\n  'token': 19,\n  'token_str': '/'},\n {'sequence': 'RT to fap with a nude pussy in DM 💦:💦',\n  'score': 0.015311868861317635,\n  'token': 30,\n  'token_str': ':'}]"
     },
     "execution_count": 17,
     "metadata": {},
     "output_type": "execute_result"
    }
   ],
   "source": [
    "fill_mask('RT to fap with a nude pussy in DM 💦<mask>💦')"
   ],
   "metadata": {
    "collapsed": false,
    "pycharm": {
     "name": "#%%\n"
    }
   }
  }
 ],
 "metadata": {
  "kernelspec": {
   "display_name": "Python 3",
   "language": "python",
   "name": "python3"
  },
  "language_info": {
   "codemirror_mode": {
    "name": "ipython",
    "version": 2
   },
   "file_extension": ".py",
   "mimetype": "text/x-python",
   "name": "python",
   "nbconvert_exporter": "python",
   "pygments_lexer": "ipython2",
   "version": "2.7.6"
  }
 },
 "nbformat": 4,
 "nbformat_minor": 0
}