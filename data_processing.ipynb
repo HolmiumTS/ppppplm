{
 "cells": [
  {
   "cell_type": "code",
   "execution_count": 1,
   "metadata": {
    "collapsed": true
   },
   "outputs": [],
   "source": [
    "# This is used for processing data\n",
    "\n",
    "import json\n",
    "import csv\n",
    "import os\n",
    "\n",
    "data_path = '/run/media/holmium/DATA/TwitterPLM'\n",
    "\n",
    "\n",
    "def get_path(relate_path):\n",
    "    return os.path.join(data_path, relate_path)"
   ]
  },
  {
   "cell_type": "code",
   "execution_count": 5,
   "outputs": [],
   "source": [
    "raw_data = open(file=get_path('tmp.txt'), mode='r')\n",
    "line_by_text_data = open(file=get_path('line_tmp.txt'), mode='w')\n",
    "\n",
    "line = raw_data.readline()\n",
    "\n",
    "while line:\n",
    "    data = json.loads(line[:-2])\n",
    "    line_by_text_data.write(data['text'] + '\\n')\n",
    "    line = raw_data.readline()"
   ],
   "metadata": {
    "collapsed": false,
    "pycharm": {
     "name": "#%%\n"
    }
   }
  }
 ],
 "metadata": {
  "kernelspec": {
   "display_name": "Python 3",
   "language": "python",
   "name": "python3"
  },
  "language_info": {
   "codemirror_mode": {
    "name": "ipython",
    "version": 2
   },
   "file_extension": ".py",
   "mimetype": "text/x-python",
   "name": "python",
   "nbconvert_exporter": "python",
   "pygments_lexer": "ipython2",
   "version": "2.7.6"
  }
 },
 "nbformat": 4,
 "nbformat_minor": 0
}